{
 "cells": [
  {
   "cell_type": "code",
   "execution_count": 1,
   "id": "a1af999e",
   "metadata": {},
   "outputs": [],
   "source": [
    "import pandas as pd\n",
    "import numpy as np\n",
    "from math import log2"
   ]
  },
  {
   "cell_type": "code",
   "execution_count": 2,
   "id": "e2a44085",
   "metadata": {},
   "outputs": [
    {
     "data": {
      "text/html": [
       "<div>\n",
       "<style scoped>\n",
       "    .dataframe tbody tr th:only-of-type {\n",
       "        vertical-align: middle;\n",
       "    }\n",
       "\n",
       "    .dataframe tbody tr th {\n",
       "        vertical-align: top;\n",
       "    }\n",
       "\n",
       "    .dataframe thead th {\n",
       "        text-align: right;\n",
       "    }\n",
       "</style>\n",
       "<table border=\"1\" class=\"dataframe\">\n",
       "  <thead>\n",
       "    <tr style=\"text-align: right;\">\n",
       "      <th></th>\n",
       "      <th>Outlook</th>\n",
       "      <th>Temp(F)</th>\n",
       "      <th>Humidity (%)</th>\n",
       "      <th>Windy?</th>\n",
       "      <th>Class</th>\n",
       "    </tr>\n",
       "  </thead>\n",
       "  <tbody>\n",
       "    <tr>\n",
       "      <th>0</th>\n",
       "      <td>sunny</td>\n",
       "      <td>75</td>\n",
       "      <td>70</td>\n",
       "      <td>True</td>\n",
       "      <td>Play</td>\n",
       "    </tr>\n",
       "    <tr>\n",
       "      <th>1</th>\n",
       "      <td>sunny</td>\n",
       "      <td>80</td>\n",
       "      <td>90</td>\n",
       "      <td>True</td>\n",
       "      <td>Don’t Play</td>\n",
       "    </tr>\n",
       "    <tr>\n",
       "      <th>2</th>\n",
       "      <td>sunny</td>\n",
       "      <td>85</td>\n",
       "      <td>85</td>\n",
       "      <td>False</td>\n",
       "      <td>Don’t Play</td>\n",
       "    </tr>\n",
       "    <tr>\n",
       "      <th>3</th>\n",
       "      <td>sunny</td>\n",
       "      <td>72</td>\n",
       "      <td>95</td>\n",
       "      <td>False</td>\n",
       "      <td>Don’t Play</td>\n",
       "    </tr>\n",
       "    <tr>\n",
       "      <th>4</th>\n",
       "      <td>sunny</td>\n",
       "      <td>69</td>\n",
       "      <td>70</td>\n",
       "      <td>False</td>\n",
       "      <td>Play</td>\n",
       "    </tr>\n",
       "    <tr>\n",
       "      <th>5</th>\n",
       "      <td>Overcast</td>\n",
       "      <td>72</td>\n",
       "      <td>90</td>\n",
       "      <td>True</td>\n",
       "      <td>Play</td>\n",
       "    </tr>\n",
       "    <tr>\n",
       "      <th>6</th>\n",
       "      <td>Overcast</td>\n",
       "      <td>83</td>\n",
       "      <td>78</td>\n",
       "      <td>False</td>\n",
       "      <td>Play</td>\n",
       "    </tr>\n",
       "    <tr>\n",
       "      <th>7</th>\n",
       "      <td>Overcast</td>\n",
       "      <td>64</td>\n",
       "      <td>65</td>\n",
       "      <td>True</td>\n",
       "      <td>Play</td>\n",
       "    </tr>\n",
       "    <tr>\n",
       "      <th>8</th>\n",
       "      <td>Overcast</td>\n",
       "      <td>81</td>\n",
       "      <td>75</td>\n",
       "      <td>False</td>\n",
       "      <td>Play</td>\n",
       "    </tr>\n",
       "    <tr>\n",
       "      <th>9</th>\n",
       "      <td>Rain</td>\n",
       "      <td>71</td>\n",
       "      <td>80</td>\n",
       "      <td>True</td>\n",
       "      <td>Don’t Play</td>\n",
       "    </tr>\n",
       "    <tr>\n",
       "      <th>10</th>\n",
       "      <td>Rain</td>\n",
       "      <td>65</td>\n",
       "      <td>70</td>\n",
       "      <td>True</td>\n",
       "      <td>Don’t Play</td>\n",
       "    </tr>\n",
       "    <tr>\n",
       "      <th>11</th>\n",
       "      <td>Rain</td>\n",
       "      <td>75</td>\n",
       "      <td>80</td>\n",
       "      <td>False</td>\n",
       "      <td>Play</td>\n",
       "    </tr>\n",
       "    <tr>\n",
       "      <th>12</th>\n",
       "      <td>Rain</td>\n",
       "      <td>68</td>\n",
       "      <td>80</td>\n",
       "      <td>False</td>\n",
       "      <td>Play</td>\n",
       "    </tr>\n",
       "    <tr>\n",
       "      <th>13</th>\n",
       "      <td>Rain</td>\n",
       "      <td>70</td>\n",
       "      <td>96</td>\n",
       "      <td>False</td>\n",
       "      <td>Play</td>\n",
       "    </tr>\n",
       "  </tbody>\n",
       "</table>\n",
       "</div>"
      ],
      "text/plain": [
       "     Outlook  Temp(F)  Humidity (%)  Windy?       Class\n",
       "0      sunny       75            70    True        Play\n",
       "1      sunny       80            90    True  Don’t Play\n",
       "2      sunny       85            85   False  Don’t Play\n",
       "3      sunny       72            95   False  Don’t Play\n",
       "4      sunny       69            70   False        Play\n",
       "5   Overcast       72            90    True        Play\n",
       "6   Overcast       83            78   False        Play\n",
       "7   Overcast       64            65    True        Play\n",
       "8   Overcast       81            75   False        Play\n",
       "9       Rain       71            80    True  Don’t Play\n",
       "10      Rain       65            70    True  Don’t Play\n",
       "11      Rain       75            80   False        Play\n",
       "12      Rain       68            80   False        Play\n",
       "13      Rain       70            96   False        Play"
      ]
     },
     "execution_count": 2,
     "metadata": {},
     "output_type": "execute_result"
    }
   ],
   "source": [
    "#first ways\n",
    "# data = {\n",
    "#     'Outlook': ['sunny', 'sunny','sunny','sunny','sunny', \n",
    "#                 'Overcast', 'Overcast', 'Overcast', 'Overcast',\n",
    "#                 'Rain', 'Rain', 'Rain', 'Rain','Rain'],\n",
    "    \n",
    "# 'Temp(F)':[75,80,85,72,69,72,83,64,81,71,65,75,68,70],\n",
    "    \n",
    "# 'Humidity (%)': [70, 90, 85, 95, 70, 90, 78, 65, 75, 80, 70, 80, 80,96],\n",
    "    \n",
    "# 'Windy?':['true','true','false','false','false','true','false',\n",
    "#           'true','false','true','true','false','false','false'],\n",
    "    \n",
    "# 'Class': ['Play', 'Don’t Play','Don’t Play', 'Don’t Play', 'Play', 'Play',\n",
    "#           'Play', 'Play','Play', 'Don’t Play', 'Don’t Play', 'Play', 'Play', \n",
    "#           'Play']\n",
    "# }\n",
    "\n",
    "# second way\n",
    "df1=pd.read_csv('game.csv')\n",
    "df = pd.DataFrame(df1)\n",
    "\n",
    "df"
   ]
  },
  {
   "cell_type": "markdown",
   "id": "73f4fc04",
   "metadata": {},
   "source": [
    "<h3>what is an entropy?</h3>\n",
    "entropy helps us understand the amount of unpredictability or impurity in a dataset.<br>\n",
    "<p>\n",
    "<p>Entropy=−(p \n",
    "Play\n",
    "​\n",
    " log \n",
    "2\n",
    "​\n",
    " (p \n",
    "Play\n",
    "​\n",
    " )+p \n",
    "Don’t Play\n",
    "​\n",
    " log \n",
    "2\n",
    "​\n",
    " (p \n",
    "Don’t Play\n",
    "​\n",
    " ))</p>"
   ]
  },
  {
   "cell_type": "code",
   "execution_count": 17,
   "id": "ecc0601e",
   "metadata": {},
   "outputs": [],
   "source": [
    "def calculate_entropy(column):\n",
    "    probabilities = column.value_counts(normalize=True)\n",
    "    return -sum(p * log2(p) for p in probabilities)"
   ]
  },
  {
   "cell_type": "code",
   "execution_count": 18,
   "id": "10e7ee75",
   "metadata": {},
   "outputs": [],
   "source": [
    "# Calculate entropy of the target column \"Class\"\n",
    "def dataset_entropy(df):\n",
    "    return calculate_entropy(df['Class'])"
   ]
  },
  {
   "cell_type": "code",
   "execution_count": 19,
   "id": "75072969",
   "metadata": {},
   "outputs": [],
   "source": [
    "# Information Gain function\n",
    "def information_gain(df, attribute, threshold=None):\n",
    "    total_entropy = dataset_entropy(df)\n",
    "\n",
    "    # Binary split based on threshold (for Humidity)\n",
    "    if threshold:\n",
    "        left_split = df[df[attribute] <= threshold]\n",
    "        right_split = df[df[attribute] > threshold]\n",
    "        \n",
    "        # Calculate weighted entropy after split\n",
    "        weighted_entropy = (len(left_split) / len(df) * calculate_entropy(left_split['Class']) +\n",
    "                            len(right_split) / len(df) * calculate_entropy(right_split['Class']))\n",
    "    else:\n",
    "        # Categorical split for attributes like Outlook\n",
    "        weighted_entropy = 0\n",
    "        for value in df[attribute].unique():\n",
    "            subset = df[df[attribute] == value]\n",
    "            weighted_entropy += (len(subset) / len(df)) * calculate_entropy(subset['Class'])\n",
    "    \n",
    "    return total_entropy - weighted_entropy\n",
    "\n"
   ]
  },
  {
   "cell_type": "code",
   "execution_count": 20,
   "id": "c1eca5d0",
   "metadata": {},
   "outputs": [],
   "source": [
    "# Gain Ratio function\n",
    "def gain_ratio(df, attribute, threshold=None):\n",
    "    gain = information_gain(df, attribute, threshold)\n",
    "    \n",
    "    # Calculate intrinsic value\n",
    "    if threshold:\n",
    "        left_split = df[df[attribute] <= threshold]\n",
    "        right_split = df[df[attribute] > threshold]\n",
    "        intrinsic_value = -(len(left_split) / len(df) * log2(len(left_split) / len(df)) +\n",
    "                            len(right_split) / len(df) * log2(len(right_split) / len(df)))\n",
    "    else:\n",
    "        intrinsic_value = 0\n",
    "        for value in df[attribute].unique():\n",
    "            subset = df[df[attribute] == value]\n",
    "            intrinsic_value -= (len(subset) / len(df)) * log2(len(subset) / len(df))\n",
    "    \n",
    "    return gain / intrinsic_value if intrinsic_value != 0 else 0\n",
    "\n"
   ]
  },
  {
   "cell_type": "code",
   "execution_count": 21,
   "id": "8c3b4767",
   "metadata": {},
   "outputs": [
    {
     "name": "stdout",
     "output_type": "stream",
     "text": [
      "Entropy of the dataset: 0.9402859586706311\n"
     ]
    }
   ],
   "source": [
    "# Output results for given attributes\n",
    "print(\"Entropy of the dataset:\", dataset_entropy(df))\n"
   ]
  },
  {
   "cell_type": "code",
   "execution_count": 22,
   "id": "cff9dce1",
   "metadata": {},
   "outputs": [
    {
     "name": "stdout",
     "output_type": "stream",
     "text": [
      "Information Gain for Outlook: 0.24674981977443933\n"
     ]
    }
   ],
   "source": [
    "print(\"Information Gain for Outlook:\", information_gain(df, 'Outlook'))\n"
   ]
  },
  {
   "cell_type": "code",
   "execution_count": 23,
   "id": "9ca01a26",
   "metadata": {},
   "outputs": [
    {
     "name": "stdout",
     "output_type": "stream",
     "text": [
      "Information Gain for Humidity (%) with threshold 75: 0.04533417202914447\n"
     ]
    }
   ],
   "source": [
    "print(\"Information Gain for Humidity (%) with threshold 75:\", information_gain(df, 'Humidity (%)', threshold=75))\n"
   ]
  },
  {
   "cell_type": "code",
   "execution_count": 24,
   "id": "131f165a",
   "metadata": {},
   "outputs": [
    {
     "name": "stdout",
     "output_type": "stream",
     "text": [
      "Gain Ratio for Outlook: 0.15642756242117528\n"
     ]
    }
   ],
   "source": [
    "print(\"Gain Ratio for Outlook:\", gain_ratio(df, 'Outlook'))\n"
   ]
  },
  {
   "cell_type": "code",
   "execution_count": 25,
   "id": "f0c35bc9",
   "metadata": {},
   "outputs": [
    {
     "name": "stdout",
     "output_type": "stream",
     "text": [
      "Gain Ratio for Humidity (%) with threshold 75: 0.0482131755888789\n"
     ]
    }
   ],
   "source": [
    "print(\"Gain Ratio for Humidity (%) with threshold 75:\", gain_ratio(df, 'Humidity (%)', threshold=75))\n"
   ]
  },
  {
   "cell_type": "code",
   "execution_count": null,
   "id": "bd1904a6",
   "metadata": {},
   "outputs": [],
   "source": []
  }
 ],
 "metadata": {
  "kernelspec": {
   "display_name": "Python 3 (ipykernel)",
   "language": "python",
   "name": "python3"
  },
  "language_info": {
   "codemirror_mode": {
    "name": "ipython",
    "version": 3
   },
   "file_extension": ".py",
   "mimetype": "text/x-python",
   "name": "python",
   "nbconvert_exporter": "python",
   "pygments_lexer": "ipython3",
   "version": "3.9.7"
  }
 },
 "nbformat": 4,
 "nbformat_minor": 5
}
