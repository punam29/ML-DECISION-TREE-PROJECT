{
 "cells": [
  {
   "cell_type": "code",
   "execution_count": null,
   "id": "44d80240",
   "metadata": {},
   "outputs": [],
   "source": [
    "class \n",
    "object\n",
    "4 pillars\n",
    "1)inheritance\n",
    "2)polymorphism\n",
    "3)encapulation\n",
    "4)abstraction\n",
    "\n",
    "\n",
    "class is collection of data and functions \n",
    "class ------> s_id,s_name,s_address_+ functions -------->objects--------->to the class"
   ]
  },
  {
   "cell_type": "code",
   "execution_count": null,
   "id": "ce17a9e5",
   "metadata": {},
   "outputs": [],
   "source": [
    "class students:\n",
    "    s_id=102\n",
    "    s_name=\"punam\"\n",
    "    s_address=\"mumbai\"\n",
    "    def details():\n",
    "        print(s_id,s_name,s_address)\n",
    "\n",
    "a=students()\n",
    "a.details()\n",
    "    "
   ]
  }
 ],
 "metadata": {
  "kernelspec": {
   "display_name": "Python 3 (ipykernel)",
   "language": "python",
   "name": "python3"
  },
  "language_info": {
   "codemirror_mode": {
    "name": "ipython",
    "version": 3
   },
   "file_extension": ".py",
   "mimetype": "text/x-python",
   "name": "python",
   "nbconvert_exporter": "python",
   "pygments_lexer": "ipython3",
   "version": "3.9.7"
  }
 },
 "nbformat": 4,
 "nbformat_minor": 5
}
