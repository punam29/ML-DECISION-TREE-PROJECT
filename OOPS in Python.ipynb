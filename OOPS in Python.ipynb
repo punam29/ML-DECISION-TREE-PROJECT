{
 "cells": [
  {
   "cell_type": "code",
   "execution_count": null,
   "id": "44d80240",
   "metadata": {},
   "outputs": [],
   "source": [
    "class \n",
    "object\n",
    "4 pillars\n",
    "1)inheritance  5 types\n",
    "2)polymorphism eg:rice\n",
    "3)encapulation private,proc,public\n",
    "4)abstraction \n",
    "\n",
    "ques:should i access private member out of the class ? it possible or not ?\n",
    "\n",
    "\n",
    "class is collection of data and functions \n",
    "class ------> s_id,s_name,s_address_+ functions -------->objects--------->to the class"
   ]
  },
  {
   "cell_type": "code",
   "execution_count": 9,
   "id": "ce17a9e5",
   "metadata": {},
   "outputs": [
    {
     "name": "stdout",
     "output_type": "stream",
     "text": [
      "102 punam mumbai\n",
      "102 punam mumbai\n",
      "222\n",
      "102 punam mumbai\n"
     ]
    }
   ],
   "source": [
    "class students:\n",
    "    def __init__(self):\n",
    "        self.s_id=102\n",
    "        self.s_name=\"punam\"\n",
    "        self.s_address=\"mumbai\"\n",
    "        print(self.s_id,self.s_name,self.s_address)\n",
    "    def details(self):\n",
    "        s_id=222\n",
    "        print(self.s_id,self.s_name,self.s_address)\n",
    "        print(s_id)\n",
    "\n",
    "a=students()\n",
    "a.details()\n",
    "a.__init__()\n",
    "\n",
    "\n",
    "    "
   ]
  },
  {
   "cell_type": "code",
   "execution_count": null,
   "id": "8b88eeb7",
   "metadata": {},
   "outputs": [],
   "source": []
  }
 ],
 "metadata": {
  "kernelspec": {
   "display_name": "Python 3 (ipykernel)",
   "language": "python",
   "name": "python3"
  },
  "language_info": {
   "codemirror_mode": {
    "name": "ipython",
    "version": 3
   },
   "file_extension": ".py",
   "mimetype": "text/x-python",
   "name": "python",
   "nbconvert_exporter": "python",
   "pygments_lexer": "ipython3",
   "version": "3.9.7"
  }
 },
 "nbformat": 4,
 "nbformat_minor": 5
}
