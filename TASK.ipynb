{
 "cells": [
  {
   "cell_type": "code",
   "execution_count": 1,
   "id": "d2c467a1",
   "metadata": {},
   "outputs": [],
   "source": [
    "# 30 pts for projects"
   ]
  },
  {
   "cell_type": "markdown",
   "id": "2a0085aa",
   "metadata": {},
   "source": [
    "<b>(a) (10 pts.) At the root node for a decision tree in this domain, what are the information gains associated with the Outlook and Humidity attributes? (Use a threshold of 75 for humidity (i.e., assume a binary split:\n",
    "humidity ≤ 75 / humidity > 75). Be sure to show your computations.</b>\n",
    "\n"
   ]
  },
  {
   "cell_type": "code",
   "execution_count": 2,
   "id": "a62fc646",
   "metadata": {},
   "outputs": [],
   "source": [
    "import pandas as pd\n",
    "import numpy as np\n",
    "import math"
   ]
  },
  {
   "cell_type": "code",
   "execution_count": 3,
   "id": "f8b58e03",
   "metadata": {},
   "outputs": [],
   "source": [
    "#first ways\n",
    "# data = {\n",
    "#     'Outlook': ['sunny', 'sunny','sunny','sunny','sunny', \n",
    "#                 'Overcast', 'Overcast', 'Overcast', 'Overcast',\n",
    "#                 'Rain', 'Rain', 'Rain', 'Rain','Rain'],\n",
    "    \n",
    "# 'Temp(F)':[75,80,85,72,69,72,83,64,81,71,65,75,68,70],\n",
    "    \n",
    "# 'Humidity (%)': [70, 90, 85, 95, 70, 90, 78, 65, 75, 80, 70, 80, 80,96],\n",
    "    \n",
    "# 'Windy?':['true','true','false','false','false','true','false',\n",
    "#           'true','false','true','true','false','false','false'],\n",
    "    \n",
    "# 'Class': ['Play', 'Don’t Play','Don’t Play', 'Don’t Play', 'Play', 'Play',\n",
    "#           'Play', 'Play','Play', 'Don’t Play', 'Don’t Play', 'Play', 'Play', \n",
    "#           'Play']\n",
    "# }\n"
   ]
  },
  {
   "cell_type": "code",
   "execution_count": 4,
   "id": "0ea30740",
   "metadata": {},
   "outputs": [
    {
     "data": {
      "text/html": [
       "<div>\n",
       "<style scoped>\n",
       "    .dataframe tbody tr th:only-of-type {\n",
       "        vertical-align: middle;\n",
       "    }\n",
       "\n",
       "    .dataframe tbody tr th {\n",
       "        vertical-align: top;\n",
       "    }\n",
       "\n",
       "    .dataframe thead th {\n",
       "        text-align: right;\n",
       "    }\n",
       "</style>\n",
       "<table border=\"1\" class=\"dataframe\">\n",
       "  <thead>\n",
       "    <tr style=\"text-align: right;\">\n",
       "      <th></th>\n",
       "      <th>Outlook</th>\n",
       "      <th>Temp(F)</th>\n",
       "      <th>Humidity (%)</th>\n",
       "      <th>Windy?</th>\n",
       "      <th>Class</th>\n",
       "    </tr>\n",
       "  </thead>\n",
       "  <tbody>\n",
       "    <tr>\n",
       "      <th>0</th>\n",
       "      <td>sunny</td>\n",
       "      <td>75</td>\n",
       "      <td>70</td>\n",
       "      <td>True</td>\n",
       "      <td>Play</td>\n",
       "    </tr>\n",
       "    <tr>\n",
       "      <th>1</th>\n",
       "      <td>sunny</td>\n",
       "      <td>80</td>\n",
       "      <td>90</td>\n",
       "      <td>True</td>\n",
       "      <td>Don't Play</td>\n",
       "    </tr>\n",
       "    <tr>\n",
       "      <th>2</th>\n",
       "      <td>sunny</td>\n",
       "      <td>85</td>\n",
       "      <td>85</td>\n",
       "      <td>False</td>\n",
       "      <td>Don't  Play</td>\n",
       "    </tr>\n",
       "    <tr>\n",
       "      <th>3</th>\n",
       "      <td>sunny</td>\n",
       "      <td>72</td>\n",
       "      <td>95</td>\n",
       "      <td>False</td>\n",
       "      <td>Don't  Play</td>\n",
       "    </tr>\n",
       "    <tr>\n",
       "      <th>4</th>\n",
       "      <td>sunny</td>\n",
       "      <td>69</td>\n",
       "      <td>70</td>\n",
       "      <td>False</td>\n",
       "      <td>Play</td>\n",
       "    </tr>\n",
       "    <tr>\n",
       "      <th>5</th>\n",
       "      <td>Overcast</td>\n",
       "      <td>72</td>\n",
       "      <td>90</td>\n",
       "      <td>True</td>\n",
       "      <td>Play</td>\n",
       "    </tr>\n",
       "    <tr>\n",
       "      <th>6</th>\n",
       "      <td>Overcast</td>\n",
       "      <td>83</td>\n",
       "      <td>78</td>\n",
       "      <td>False</td>\n",
       "      <td>Play</td>\n",
       "    </tr>\n",
       "    <tr>\n",
       "      <th>7</th>\n",
       "      <td>Overcast</td>\n",
       "      <td>64</td>\n",
       "      <td>65</td>\n",
       "      <td>True</td>\n",
       "      <td>Play</td>\n",
       "    </tr>\n",
       "    <tr>\n",
       "      <th>8</th>\n",
       "      <td>Overcast</td>\n",
       "      <td>81</td>\n",
       "      <td>75</td>\n",
       "      <td>False</td>\n",
       "      <td>Play</td>\n",
       "    </tr>\n",
       "    <tr>\n",
       "      <th>9</th>\n",
       "      <td>Rain</td>\n",
       "      <td>71</td>\n",
       "      <td>80</td>\n",
       "      <td>True</td>\n",
       "      <td>Don't Play</td>\n",
       "    </tr>\n",
       "    <tr>\n",
       "      <th>10</th>\n",
       "      <td>Rain</td>\n",
       "      <td>65</td>\n",
       "      <td>70</td>\n",
       "      <td>True</td>\n",
       "      <td>Don't Play</td>\n",
       "    </tr>\n",
       "    <tr>\n",
       "      <th>11</th>\n",
       "      <td>Rain</td>\n",
       "      <td>75</td>\n",
       "      <td>80</td>\n",
       "      <td>False</td>\n",
       "      <td>Play</td>\n",
       "    </tr>\n",
       "    <tr>\n",
       "      <th>12</th>\n",
       "      <td>Rain</td>\n",
       "      <td>68</td>\n",
       "      <td>80</td>\n",
       "      <td>False</td>\n",
       "      <td>Play</td>\n",
       "    </tr>\n",
       "    <tr>\n",
       "      <th>13</th>\n",
       "      <td>Rain</td>\n",
       "      <td>70</td>\n",
       "      <td>96</td>\n",
       "      <td>False</td>\n",
       "      <td>Play</td>\n",
       "    </tr>\n",
       "  </tbody>\n",
       "</table>\n",
       "</div>"
      ],
      "text/plain": [
       "     Outlook  Temp(F)  Humidity (%)  Windy?        Class\n",
       "0      sunny       75            70    True         Play\n",
       "1      sunny       80            90    True   Don't Play\n",
       "2      sunny       85            85   False  Don't  Play\n",
       "3      sunny       72            95   False  Don't  Play\n",
       "4      sunny       69            70   False         Play\n",
       "5   Overcast       72            90    True         Play\n",
       "6   Overcast       83            78   False         Play\n",
       "7   Overcast       64            65    True         Play\n",
       "8   Overcast       81            75   False         Play\n",
       "9       Rain       71            80    True   Don't Play\n",
       "10      Rain       65            70    True   Don't Play\n",
       "11      Rain       75            80   False         Play\n",
       "12      Rain       68            80   False         Play\n",
       "13      Rain       70            96   False         Play"
      ]
     },
     "execution_count": 4,
     "metadata": {},
     "output_type": "execute_result"
    }
   ],
   "source": [
    "# second way\n",
    "df1=pd.read_csv('game.csv')\n",
    "df = pd.DataFrame(df1)\n",
    "df"
   ]
  },
  {
   "cell_type": "markdown",
   "id": "e5873900",
   "metadata": {},
   "source": [
    "<h3>what is an entropy?</h3>\n",
    "entropy helps us understand the amount of unpredictability or impurity in a dataset.<br>\n",
    "<p>\n",
    "<p>Entropy=−(p \n",
    "Play\n",
    "​\n",
    " log \n",
    "2\n",
    "​\n",
    " (p \n",
    "Play\n",
    "​\n",
    " )+p \n",
    "Don’t Play\n",
    "​\n",
    " log \n",
    "2\n",
    "​\n",
    " (p \n",
    "Don’t Play\n",
    "​\n",
    " ))</p>"
   ]
  },
  {
   "cell_type": "markdown",
   "id": "6396b08f",
   "metadata": {},
   "source": [
    "<p><b>We have 14 samples: 9 \"Play\" and 5 \"Don’t Play\".</b><br>\n",
    "The probabilities for each class are <br>\n",
    "𝑝\n",
    "(\n",
    "Play\n",
    ")\n",
    "=\n",
    "9/\n",
    "14\n",
    "p(Play)= \n",
    "14/\n",
    "9\n",
    "​<br>\n",
    "  and \n",
    "𝑝\n",
    "(\n",
    "Don’t Play\n",
    ")\n",
    "=\n",
    "5/\n",
    "14\n",
    "p(Don’t Play)= \n",
    "14/\n",
    "5\n",
    "​\n",
    " .</p>\n",
    " "
   ]
  },
  {
   "cell_type": "markdown",
   "id": "bacc7b11",
   "metadata": {},
   "source": [
    "<b><p>H(Root)=−( \n",
    "9/\n",
    "14 log \n",
    "    <sub>2</sub> 9/14 + 5/14 log<sub>2</sub> 5/14)</p></b>"
   ]
  },
  {
   "cell_type": "code",
   "execution_count": 5,
   "id": "a22eb02a",
   "metadata": {},
   "outputs": [],
   "source": [
    "# Function to calculate entropy\n",
    "def entropy(counts):\n",
    "    total = sum(counts)\n",
    "    return -sum((count / total) * math.log2(count / total) \n",
    "    for count in counts if count > 0)\n",
    "    print(counts)"
   ]
  },
  {
   "cell_type": "code",
   "execution_count": null,
   "id": "7ebc6c08",
   "metadata": {},
   "outputs": [],
   "source": []
  },
  {
   "cell_type": "code",
   "execution_count": 6,
   "id": "54c912e9",
   "metadata": {},
   "outputs": [
    {
     "name": "stdout",
     "output_type": "stream",
     "text": [
      "1.2870540281187268\n"
     ]
    }
   ],
   "source": [
    "# Calculate root entropy (before any split)\n",
    "root_counts = df['Class'].value_counts()\n",
    "root_entropy = entropy(root_counts)\n",
    "print(root_entropy)"
   ]
  },
  {
   "cell_type": "code",
   "execution_count": 7,
   "id": "38b91e72",
   "metadata": {},
   "outputs": [
    {
     "name": "stdout",
     "output_type": "stream",
     "text": [
      "Outlook   Class      \n",
      "Overcast  Play           4\n",
      "Rain      Play           3\n",
      "          Don't Play     2\n",
      "sunny     Don't  Play    2\n",
      "          Play           2\n",
      "          Don't Play     1\n",
      "Name: count, dtype: int64\n",
      "0.39674021049657304\n"
     ]
    }
   ],
   "source": [
    "# Calculate information gain for Outlook\n",
    "outlook_groups = df.groupby('Outlook')['Class'].value_counts()\n",
    "print(outlook_groups)\n",
    "outlook_entropy = sum(\n",
    "    (count / len(df)) * entropy(df[df['Outlook'] == outlook]['Class'].value_counts())\n",
    "    for outlook, count in df['Outlook'].value_counts().items()\n",
    ")\n",
    "info_gain_outlook = root_entropy - outlook_entropy\n",
    "print(info_gain_outlook)"
   ]
  },
  {
   "cell_type": "code",
   "execution_count": 8,
   "id": "51867154",
   "metadata": {},
   "outputs": [
    {
     "name": "stdout",
     "output_type": "stream",
     "text": [
      "     Outlook  Temp(F)  Humidity (%)  Windy?       Class\n",
      "0      sunny       75            70    True        Play\n",
      "4      sunny       69            70   False        Play\n",
      "7   Overcast       64            65    True        Play\n",
      "8   Overcast       81            75   False        Play\n",
      "10      Rain       65            70    True  Don't Play\n",
      "     Outlook  Temp(F)  Humidity (%)  Windy?        Class\n",
      "1      sunny       80            90    True   Don't Play\n",
      "2      sunny       85            85   False  Don't  Play\n",
      "3      sunny       72            95   False  Don't  Play\n",
      "5   Overcast       72            90    True         Play\n",
      "6   Overcast       83            78   False         Play\n",
      "9       Rain       71            80    True   Don't Play\n",
      "11      Rain       75            80   False         Play\n",
      "12      Rain       68            80   False         Play\n",
      "13      Rain       70            96   False         Play\n",
      "0.10638795576295434\n"
     ]
    }
   ],
   "source": [
    "# Calculate information gain for Humidity (threshold of 75)\n",
    "low_humidity = df[df['Humidity (%)'] <= 75]\n",
    "print(low_humidity)\n",
    "high_humidity = df[df['Humidity (%)'] > 75]\n",
    "print(high_humidity)\n",
    "low_entropy = entropy(low_humidity['Class'].value_counts())\n",
    "high_entropy = entropy(high_humidity['Class'].value_counts())\n",
    "humidity_entropy = (len(low_humidity) / len(df)) * low_entropy + (len(high_humidity) / len(df)) * high_entropy\n",
    "info_gain_humidity = root_entropy - humidity_entropy\n",
    "print(info_gain_humidity)\n"
   ]
  },
  {
   "cell_type": "code",
   "execution_count": 9,
   "id": "a94351b2",
   "metadata": {},
   "outputs": [
    {
     "name": "stdout",
     "output_type": "stream",
     "text": [
      "Information Gain for Outlook: 0.39674021049657304\n",
      "Information Gain for Humidity (threshold 75): 0.10638795576295434\n"
     ]
    }
   ],
   "source": [
    "# Print results\n",
    "print(\"Information Gain for Outlook:\", info_gain_outlook)\n",
    "print(\"Information Gain for Humidity (threshold 75):\", info_gain_humidity)\n"
   ]
  },
  {
   "cell_type": "markdown",
   "id": "80193480",
   "metadata": {},
   "source": [
    "<b>(b) (10 pts.) Again at the root node, what are the gain ratios associated with the Outlook and Humidity attributes (using the same threshold as in (a))? Be sure to show your computations.</b>"
   ]
  },
  {
   "cell_type": "code",
   "execution_count": 10,
   "id": "4483a840",
   "metadata": {},
   "outputs": [
    {
     "name": "stdout",
     "output_type": "stream",
     "text": [
      "Split Information for Outlook: 1.5774062828523454\n"
     ]
    }
   ],
   "source": [
    "# Function to calculate split information\n",
    "def split_information(subset_sizes, total_size):\n",
    "    return -sum((size / total_size) * math.log2(size / total_size) for size in subset_sizes if size > 0)\n",
    "\n",
    "# Split information for Outlook\n",
    "outlook_counts = df['Outlook'].value_counts()\n",
    "outlook_split_info = split_information(outlook_counts, len(df))\n",
    "print(\"Split Information for Outlook:\", outlook_split_info)"
   ]
  },
  {
   "cell_type": "code",
   "execution_count": 11,
   "id": "547f98eb",
   "metadata": {},
   "outputs": [
    {
     "name": "stdout",
     "output_type": "stream",
     "text": [
      "Split Information for Humidity (threshold 75): 0.9402859586706311\n"
     ]
    }
   ],
   "source": [
    "# Split information for Humidity (threshold 75)\n",
    "low_humidity_count = len(df[df['Humidity (%)'] <= 75])\n",
    "high_humidity_count = len(df[df['Humidity (%)'] > 75])\n",
    "humidity_split_info = split_information([low_humidity_count, high_humidity_count], len(df))\n",
    "print(\"Split Information for Humidity (threshold 75):\", humidity_split_info)\n"
   ]
  },
  {
   "cell_type": "code",
   "execution_count": 12,
   "id": "62ae9f9e",
   "metadata": {},
   "outputs": [
    {
     "name": "stdout",
     "output_type": "stream",
     "text": [
      "Gain Ratio for Outlook: 0.2515142831681686\n",
      "Gain Ratio for Humidity (threshold 75): 0.11314425657633428\n"
     ]
    }
   ],
   "source": [
    "# Gain Ratio for Outlook\n",
    "gain_ratio_outlook = info_gain_outlook / outlook_split_info \\\n",
    "if outlook_split_info != 0 else 0\n",
    "print(\"Gain Ratio for Outlook:\", gain_ratio_outlook)\n",
    "\n",
    "# Gain Ratio for Humidity\n",
    "gain_ratio_humidity = info_gain_humidity / humidity_split_info \\\n",
    "if humidity_split_info != 0 else 0\n",
    "print(\"Gain Ratio for Humidity (threshold 75):\", gain_ratio_humidity)"
   ]
  },
  {
   "cell_type": "markdown",
   "id": "264dee2b",
   "metadata": {},
   "source": [
    "<b>c)(10 pts.) Draw the complete (unpruned) decision tree, showing the information gain at each non-leaf node, and class predictions at the leaves</b>"
   ]
  },
  {
   "cell_type": "code",
   "execution_count": 13,
   "id": "483a63f6",
   "metadata": {},
   "outputs": [],
   "source": [
    "from sklearn.preprocessing import LabelEncoder\n",
    "\n",
    "# Encoding categorical variables\n",
    "label_encoder = LabelEncoder()\n",
    "df['Outlook'] = label_encoder.fit_transform(df['Outlook'])\n",
    "df['Class'] = label_encoder.fit_transform(df['Class'])  # 'Play' becomes 1, 'Don’t Play' becomes 0\n",
    "\n",
    "# Separate features and target\n",
    "X = df[['Outlook', 'Humidity (%)']]\n",
    "y = df['Class']"
   ]
  },
  {
   "cell_type": "code",
   "execution_count": 14,
   "id": "0e054acc",
   "metadata": {},
   "outputs": [
    {
     "data": {
      "text/plain": [
       "DecisionTreeClassifier(criterion='entropy', random_state=0)"
      ]
     },
     "execution_count": 14,
     "metadata": {},
     "output_type": "execute_result"
    }
   ],
   "source": [
    "from sklearn.tree import DecisionTreeClassifier\n",
    "\n",
    "# Train a decision tree classifier\n",
    "tree_clf = DecisionTreeClassifier(criterion=\"entropy\", random_state=0)\n",
    "tree_clf.fit(X, y)\n"
   ]
  },
  {
   "cell_type": "code",
   "execution_count": 16,
   "id": "4a95d32a",
   "metadata": {},
   "outputs": [
    {
     "data": {
      "image/png": "[encoded data removed]",
      "text/plain": [
       "<Figure size 864x576 with 1 Axes>"
      ]
     },
     "metadata": {
      "needs_background": "light"
     },
     "output_type": "display_data"
    }
   ],
   "source": [
    "import matplotlib.pyplot as plt\n",
    "from sklearn.tree import plot_tree\n",
    "\n",
    "# Plotting the decision tree\n",
    "plt.figure(figsize=(12, 8))\n",
    "plot_tree(tree_clf, \n",
    "          feature_names=['Outlook', 'Humidity (%)'],  # Adjust this if needed\n",
    "          class_names=tree_clf.classes_.astype(str),  # Ensure this matches model classes\n",
    "          filled=True, \n",
    "          impurity=True, \n",
    "          rounded=True)\n",
    "plt.show()\n"
   ]
  },
  {
   "cell_type": "code",
   "execution_count": null,
   "id": "988ff0cf",
   "metadata": {},
   "outputs": [],
   "source": []
  }
 ],
 "metadata": {
  "kernelspec": {
   "display_name": "Python 3 (ipykernel)",
   "language": "python",
   "name": "python3"
  },
  "language_info": {
   "codemirror_mode": {
    "name": "ipython",
    "version": 3
   },
   "file_extension": ".py",
   "mimetype": "text/x-python",
   "name": "python",
   "nbconvert_exporter": "python",
   "pygments_lexer": "ipython3",
   "version": "3.9.7"
  }
 },
 "nbformat": 4,
 "nbformat_minor": 5
}
